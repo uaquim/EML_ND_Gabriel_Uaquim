{
 "cells": [
  {
   "cell_type": "code",
   "execution_count": 1,
   "metadata": {},
   "outputs": [],
   "source": [
    "import pandas as pd\n",
    "import numpy as np\n",
    "import matplotlib.pyplot as plt\n",
    "import seaborn as sns\n",
    "from sklearn.naive_bayes import GaussianNB\n",
    "from sklearn.model_selection import cross_val_score, train_test_split\n",
    "from sklearn.decomposition import PCA\n",
    "from sklearn.feature_selection import SelectKBest, f_classif\n",
    "from sklearn.metrics import confusion_matrix\n",
    "from sklearn.linear_model import LogisticRegression\n",
    "from sklearn.ensemble import GradientBoostingClassifier\n",
    "from sklearn.ensemble import RandomForestClassifier\n",
    "from sklearn.neural_network import MLPClassifier\n",
    "from sklearn.linear_model import SGDClassifier\n",
    "from sklearn.metrics import accuracy_score, fbeta_score, make_scorer\n",
    "from sklearn.model_selection import GridSearchCV, StratifiedKFold\n",
    "import pickle\n",
    "from time import time\n",
    "from sklearn.kernel_approximation import RBFSampler\n",
    "from sklearn.pipeline import Pipeline\n",
    "\n",
    "from sklearn.preprocessing import StandardScaler\n",
    "\n",
    "sns.set()\n",
    "%matplotlib inline "
   ]
  },
  {
   "cell_type": "code",
   "execution_count": 26,
   "metadata": {},
   "outputs": [
    {
     "data": {
      "text/plain": [
       "'0.20.1'"
      ]
     },
     "execution_count": 26,
     "metadata": {},
     "output_type": "execute_result"
    }
   ],
   "source": [
    "import sklearn\n",
    "sklearn.__version__"
   ]
  },
  {
   "cell_type": "markdown",
   "metadata": {},
   "source": [
    "### Carregando X e y"
   ]
  },
  {
   "cell_type": "code",
   "execution_count": 6,
   "metadata": {},
   "outputs": [],
   "source": [
    "with open('../input/pickles/X_main.pkl', 'rb') as f:\n",
    "    X = pickle.load(f)\n",
    "\n",
    "with open('../input/pickles/y_main.pkl', 'rb') as f:\n",
    "    y = pickle.load(f)"
   ]
  },
  {
   "cell_type": "code",
   "execution_count": 5,
   "metadata": {},
   "outputs": [
    {
     "data": {
      "text/plain": [
       "(1901680, 47)"
      ]
     },
     "execution_count": 5,
     "metadata": {},
     "output_type": "execute_result"
    }
   ],
   "source": [
    "X.shape"
   ]
  },
  {
   "cell_type": "markdown",
   "metadata": {},
   "source": [
    "### Diminuindo o espaço de amostras.\n",
    "\n",
    "1. O conjunto contém muitas amostras, o que torna a tarefa de treinar e testar os modelos muito díficil;\n",
    "2. Avaliar um tamanho representativo."
   ]
  },
  {
   "cell_type": "markdown",
   "metadata": {},
   "source": [
    "## Feature Selection"
   ]
  },
  {
   "cell_type": "code",
   "execution_count": 7,
   "metadata": {
    "scrolled": true
   },
   "outputs": [],
   "source": [
    "X_train, X_test, y_train, y_test = train_test_split(X, y.ravel(), test_size=0.2, random_state=42)"
   ]
  },
  {
   "cell_type": "code",
   "execution_count": 7,
   "metadata": {},
   "outputs": [
    {
     "data": {
      "text/plain": [
       "0.34197393883303184"
      ]
     },
     "execution_count": 7,
     "metadata": {},
     "output_type": "execute_result"
    }
   ],
   "source": [
    "# Acurácia do modelo mais básico\n",
    "sum(y_test) / y_test.shape[0]"
   ]
  },
  {
   "cell_type": "code",
   "execution_count": 8,
   "metadata": {},
   "outputs": [
    {
     "name": "stdout",
     "output_type": "stream",
     "text": [
      "Sem feature selection, accuracy = 0.5207553321273821\n",
      "Sem feature selection, fbeta = 0.7686054093813098\n"
     ]
    }
   ],
   "source": [
    "# Sem feature selection\n",
    "basic_clf = GaussianNB()\n",
    "basic_clf.fit(X_train, y_train)\n",
    "y_pred = basic_clf.predict(X_test)\n",
    "score = accuracy_score(y_test, y_pred)\n",
    "print(\"Sem feature selection, accuracy = {}\".format(score))\n",
    "score = fbeta_score(y_test, y_pred, 2)\n",
    "print(\"Sem feature selection, fbeta = {}\".format(score))"
   ]
  },
  {
   "cell_type": "code",
   "execution_count": 9,
   "metadata": {},
   "outputs": [
    {
     "data": {
      "image/png": "[encoded data removed]",
      "text/plain": [
       "<Figure size 432x288 with 1 Axes>"
      ]
     },
     "metadata": {},
     "output_type": "display_data"
    }
   ],
   "source": [
    "# PCA\n",
    "# Selecionando N_components\n",
    "\n",
    "pca = PCA(n_components=X_train.shape[1])\n",
    "pca.fit(X_train,y_train)\n",
    "\n",
    "plt.plot([x for x in range(1,X_train.shape[1]+1)], pca.explained_variance_) \n",
    "plt.title('Scree Plot')\n",
    "plt.xlabel('Número de componentes')\n",
    "plt.ylabel('Variância Explicada')\n",
    "plt.xlim(xmax=20)\n",
    "plt.show()"
   ]
  },
  {
   "cell_type": "code",
   "execution_count": 10,
   "metadata": {
    "scrolled": true
   },
   "outputs": [
    {
     "data": {
      "text/html": [
       "<div>\n",
       "<style>\n",
       "    .dataframe thead tr:only-child th {\n",
       "        text-align: right;\n",
       "    }\n",
       "\n",
       "    .dataframe thead th {\n",
       "        text-align: left;\n",
       "    }\n",
       "\n",
       "    .dataframe tbody tr th {\n",
       "        vertical-align: top;\n",
       "    }\n",
       "</style>\n",
       "<table border=\"1\" class=\"dataframe\">\n",
       "  <thead>\n",
       "    <tr style=\"text-align: right;\">\n",
       "      <th></th>\n",
       "      <th>method</th>\n",
       "      <th>n_components</th>\n",
       "      <th>fbeta</th>\n",
       "      <th>accuracy</th>\n",
       "    </tr>\n",
       "  </thead>\n",
       "  <tbody>\n",
       "    <tr>\n",
       "      <th>6</th>\n",
       "      <td>None</td>\n",
       "      <td>0</td>\n",
       "      <td>0.768605</td>\n",
       "      <td>0.520755</td>\n",
       "    </tr>\n",
       "    <tr>\n",
       "      <th>5</th>\n",
       "      <td>SlectKBest</td>\n",
       "      <td>8</td>\n",
       "      <td>0.767569</td>\n",
       "      <td>0.515802</td>\n",
       "    </tr>\n",
       "    <tr>\n",
       "      <th>1</th>\n",
       "      <td>SlectKBest</td>\n",
       "      <td>6</td>\n",
       "      <td>0.757023</td>\n",
       "      <td>0.453809</td>\n",
       "    </tr>\n",
       "    <tr>\n",
       "      <th>3</th>\n",
       "      <td>SlectKBest</td>\n",
       "      <td>7</td>\n",
       "      <td>0.757005</td>\n",
       "      <td>0.453841</td>\n",
       "    </tr>\n",
       "    <tr>\n",
       "      <th>4</th>\n",
       "      <td>PCA</td>\n",
       "      <td>8</td>\n",
       "      <td>0.754544</td>\n",
       "      <td>0.590218</td>\n",
       "    </tr>\n",
       "    <tr>\n",
       "      <th>2</th>\n",
       "      <td>PCA</td>\n",
       "      <td>7</td>\n",
       "      <td>0.748677</td>\n",
       "      <td>0.585840</td>\n",
       "    </tr>\n",
       "    <tr>\n",
       "      <th>0</th>\n",
       "      <td>PCA</td>\n",
       "      <td>6</td>\n",
       "      <td>0.744283</td>\n",
       "      <td>0.588935</td>\n",
       "    </tr>\n",
       "  </tbody>\n",
       "</table>\n",
       "</div>"
      ],
      "text/plain": [
       "       method  n_components     fbeta  accuracy\n",
       "6        None             0  0.768605  0.520755\n",
       "5  SlectKBest             8  0.767569  0.515802\n",
       "1  SlectKBest             6  0.757023  0.453809\n",
       "3  SlectKBest             7  0.757005  0.453841\n",
       "4         PCA             8  0.754544  0.590218\n",
       "2         PCA             7  0.748677  0.585840\n",
       "0         PCA             6  0.744283  0.588935"
      ]
     },
     "execution_count": 10,
     "metadata": {},
     "output_type": "execute_result"
    }
   ],
   "source": [
    "comps = [6,7,8]\n",
    "\n",
    "results = []\n",
    "\n",
    "for i in comps:\n",
    "    r_pca = {}\n",
    "    pca_test = PCA(n_components=i).fit(X_train, y_train)\n",
    "    pca_clf = GaussianNB()\n",
    "    pca_clf.fit(pca_test.transform(X_train), y_train)\n",
    "    y_pred = pca_clf.predict(pca_test.transform(X_test))\n",
    "    r_pca['method'] = 'PCA'\n",
    "    r_pca['n_components'] = i\n",
    "    r_pca['accuracy'] = accuracy_score(y_test, y_pred)\n",
    "    r_pca['fbeta'] = fbeta_score(y_test, y_pred, 2)\n",
    "    results.append(r_pca)\n",
    "    \n",
    "    r_kbest = {}\n",
    "    kbest = SelectKBest(f_classif, k=i).fit(X_train, y_train)\n",
    "    kbest_clf = GaussianNB()\n",
    "    kbest_clf.fit(kbest.transform(X_train), y_train)\n",
    "    y_pred = kbest_clf.predict(kbest.transform(X_test))\n",
    "    r_kbest['method'] = 'SlectKBest'\n",
    "    r_kbest['n_components'] = i\n",
    "    r_kbest['accuracy'] = accuracy_score(y_test, y_pred)\n",
    "    r_kbest['fbeta'] = fbeta_score(y_test, y_pred, 2)\n",
    "    results.append(r_kbest)\n",
    "    \n",
    "r_basic = {}\n",
    "basic = GaussianNB()\n",
    "basic.fit(X_train, y_train)\n",
    "y_pred = basic.predict(X_test)\n",
    "r_basic['method'] = 'None'\n",
    "r_basic['n_components'] = 0\n",
    "r_basic['accuracy'] = accuracy_score(y_test, y_pred)\n",
    "r_basic['fbeta'] = fbeta_score(y_test, y_pred, 2)\n",
    "results.append(r_basic)\n",
    "\n",
    "df_results = pd.DataFrame(results)\n",
    "df_results = df_results[['method', 'n_components', 'fbeta', 'accuracy']].copy()\n",
    "df_results.sort_values(['fbeta'], ascending=False)"
   ]
  },
  {
   "cell_type": "markdown",
   "metadata": {},
   "source": [
    "#### Conclusão: melhor resultado: PCA(n_components=8)"
   ]
  },
  {
   "cell_type": "code",
   "execution_count": 9,
   "metadata": {},
   "outputs": [],
   "source": [
    "pca_final = PCA(n_components=8).fit(X_train,y_train)\n",
    "new_X_train = pca_final.transform(X_train)\n",
    "new_X_test = pca_final.transform(X_test)\n",
    "\n",
    "with open('../input/pickles/pca_final.pkl', 'wb') as f:\n",
    "    pickle.dump(pca_final, f)"
   ]
  },
  {
   "cell_type": "markdown",
   "metadata": {},
   "source": [
    "## Model Evaluation\n",
    "\n",
    "1. Modelos a serem testados:\n",
    "    1. Logistic Regression\n",
    "    2. Decision Tree\n",
    "    3. GradientBoosting\n",
    "    4. Neural Network\n",
    "2. Método de escolha:\n",
    "    1. Será usado o modelo básico de cada um deles\n",
    "    2. Será usado a acurácia e a matriz de confusão para avaliar os métodos.\n",
    "        1. a acurácia foi escolhida pois as classes não são desbalanceadas e é uma métrica simples de comunicar\n",
    "        2. o recall será utilizado para critério de desempate, se houver.\n",
    "            1. Recall nesse cenário: quanto menor o recall mais a chance da fazenda deixar de cobrar daquele contribuinte que pagaria o débito."
   ]
  },
  {
   "cell_type": "code",
   "execution_count": 17,
   "metadata": {},
   "outputs": [],
   "source": [
    "model_results = []"
   ]
  },
  {
   "cell_type": "code",
   "execution_count": 26,
   "metadata": {
    "scrolled": true
   },
   "outputs": [
    {
     "name": "stderr",
     "output_type": "stream",
     "text": [
      "C:\\Users\\uaqui\\Anaconda3\\lib\\site-packages\\sklearn\\linear_model\\stochastic_gradient.py:166: FutureWarning: max_iter and tol parameters have been added in SGDClassifier in 0.19. If both are left unset, they default to max_iter=5 and tol=None. If tol is not None, max_iter defaults to max_iter=1000. From 0.21, default max_iter will be 1000, and default tol will be 1e-3.\n",
      "  FutureWarning)\n"
     ]
    }
   ],
   "source": [
    "#SGD Classifier\n",
    "start = time()\n",
    "sgd_clf = SGDClassifier(random_state=42)\n",
    "sgd_clf.fit(new_X_train, y_train)\n",
    "end = time()\n",
    "sgd_y_pred = sgd_clf.predict(new_X_test)\n",
    "\n",
    "r = {}\n",
    "r['training_time'] = round(end - start, 3)\n",
    "r['accuracy'] = accuracy_score(y_test, sgd_y_pred)\n",
    "r['fbeta'] = fbeta_score(y_test, sgd_y_pred, 2)\n",
    "r['model'] = 'SGD Classifier'\n",
    "\n",
    "model_results.append(r)"
   ]
  },
  {
   "cell_type": "code",
   "execution_count": 19,
   "metadata": {},
   "outputs": [
    {
     "name": "stderr",
     "output_type": "stream",
     "text": [
      "C:\\Users\\uaqui\\Anaconda3\\lib\\site-packages\\sklearn\\linear_model\\logistic.py:433: FutureWarning: Default solver will be changed to 'lbfgs' in 0.22. Specify a solver to silence this warning.\n",
      "  FutureWarning)\n"
     ]
    }
   ],
   "source": [
    "# Logistic Regression\n",
    "start = time()\n",
    "lreg_clf = LogisticRegression(random_state=42)\n",
    "lreg_clf.fit(new_X_train, y_train)\n",
    "end = time()\n",
    "lreg_y_pred = lreg_clf.predict(new_X_test)\n",
    "\n",
    "r = {}\n",
    "r['training_time'] = round(end - start, 3)\n",
    "r['accuracy'] = accuracy_score(y_test, lreg_y_pred)\n",
    "r['fbeta'] = fbeta_score(y_test, lreg_y_pred, 2)\n",
    "r['model'] = 'Logistic Regression'\n",
    "\n",
    "model_results.append(r)"
   ]
  },
  {
   "cell_type": "code",
   "execution_count": 20,
   "metadata": {},
   "outputs": [
    {
     "name": "stderr",
     "output_type": "stream",
     "text": [
      "C:\\Users\\uaqui\\Anaconda3\\lib\\site-packages\\sklearn\\linear_model\\stochastic_gradient.py:166: FutureWarning: max_iter and tol parameters have been added in SGDClassifier in 0.19. If both are left unset, they default to max_iter=5 and tol=None. If tol is not None, max_iter defaults to max_iter=1000. From 0.21, default max_iter will be 1000, and default tol will be 1e-3.\n",
      "  FutureWarning)\n"
     ]
    }
   ],
   "source": [
    "#SGD + Kernel Approximation\n",
    "start = time()\n",
    "rbf_sampler = RBFSampler(gamma=1, random_state=42).fit(new_X_train, y_train)\n",
    "krn_clf = SGDClassifier(random_state=42)\n",
    "krn_clf.fit(rbf_sampler.transform(new_X_train), y_train)\n",
    "end = time()\n",
    "krn_y_pred = krn_clf.predict(rbf_sampler.transform(new_X_test))\n",
    "\n",
    "r = {}\n",
    "r['training_time'] = round(end - start, 3)\n",
    "r['accuracy'] = accuracy_score(y_test, krn_y_pred)\n",
    "r['fbeta'] = fbeta_score(y_test, krn_y_pred, 2)\n",
    "r['model'] = 'SGD + Kernel'\n",
    "\n",
    "model_results.append(r)"
   ]
  },
  {
   "cell_type": "code",
   "execution_count": 21,
   "metadata": {},
   "outputs": [
    {
     "name": "stderr",
     "output_type": "stream",
     "text": [
      "C:\\Users\\uaqui\\Anaconda3\\lib\\site-packages\\sklearn\\ensemble\\forest.py:246: FutureWarning: The default value of n_estimators will change from 10 in version 0.20 to 100 in 0.22.\n",
      "  \"10 in version 0.20 to 100 in 0.22.\", FutureWarning)\n"
     ]
    }
   ],
   "source": [
    "# Random Forest\n",
    "start = time()\n",
    "rf_clf = RandomForestClassifier(random_state=42)\n",
    "rf_clf.fit(new_X_train, y_train)\n",
    "end = time()\n",
    "rf_y_pred = rf_clf.predict(new_X_test)\n",
    "\n",
    "r = {}\n",
    "r['training_time'] = round(end - start, 3)\n",
    "r['accuracy'] = accuracy_score(y_test, rf_y_pred)\n",
    "r['fbeta'] = fbeta_score(y_test, rf_y_pred, 2)\n",
    "r['model'] = 'Random Forest'\n",
    "\n",
    "model_results.append(r)"
   ]
  },
  {
   "cell_type": "code",
   "execution_count": 22,
   "metadata": {},
   "outputs": [],
   "source": [
    "#GradientBoosting\n",
    "start = time()\n",
    "grad_clf = GradientBoostingClassifier(random_state=42)\n",
    "grad_clf.fit(new_X_train, y_train)\n",
    "end = time()\n",
    "grad_y_pred = grad_clf.predict(new_X_test)\n",
    "\n",
    "r = {}\n",
    "r['training_time'] = round(end - start, 3)\n",
    "r['accuracy'] = accuracy_score(y_test, grad_y_pred)\n",
    "r['fbeta'] = fbeta_score(y_test, grad_y_pred, 2)\n",
    "r['model'] = 'Gradient Boosting'\n",
    "\n",
    "model_results.append(r)"
   ]
  },
  {
   "cell_type": "code",
   "execution_count": 23,
   "metadata": {
    "scrolled": true
   },
   "outputs": [],
   "source": [
    "# MLPClassifier\n",
    "start = time()\n",
    "mlp_clf = MLPClassifier(random_state=42)\n",
    "mlp_clf.fit(new_X_train, y_train)\n",
    "end = time()\n",
    "mlp_y_pred = mlp_clf.predict(new_X_test)\n",
    "\n",
    "r = {}\n",
    "r['training_time'] = round(end - start, 3)\n",
    "r['accuracy'] = accuracy_score(y_test, mlp_y_pred)\n",
    "r['fbeta'] = fbeta_score(y_test, mlp_y_pred, 2)\n",
    "r['model'] = 'MLPClassifier'\n",
    "\n",
    "model_results.append(r)"
   ]
  },
  {
   "cell_type": "code",
   "execution_count": 33,
   "metadata": {},
   "outputs": [
    {
     "data": {
      "text/html": [
       "<div>\n",
       "<style>\n",
       "    .dataframe thead tr:only-child th {\n",
       "        text-align: right;\n",
       "    }\n",
       "\n",
       "    .dataframe thead th {\n",
       "        text-align: left;\n",
       "    }\n",
       "\n",
       "    .dataframe tbody tr th {\n",
       "        vertical-align: top;\n",
       "    }\n",
       "</style>\n",
       "<table border=\"1\" class=\"dataframe\">\n",
       "  <thead>\n",
       "    <tr style=\"text-align: right;\">\n",
       "      <th></th>\n",
       "      <th>model</th>\n",
       "      <th>training_time</th>\n",
       "      <th>fbeta</th>\n",
       "      <th>accuracy</th>\n",
       "    </tr>\n",
       "  </thead>\n",
       "  <tbody>\n",
       "    <tr>\n",
       "      <th>4</th>\n",
       "      <td>MLPClassifier</td>\n",
       "      <td>266.727</td>\n",
       "      <td>0.669</td>\n",
       "      <td>0.760</td>\n",
       "    </tr>\n",
       "    <tr>\n",
       "      <th>1</th>\n",
       "      <td>SGD + Kernel</td>\n",
       "      <td>5.663</td>\n",
       "      <td>0.666</td>\n",
       "      <td>0.741</td>\n",
       "    </tr>\n",
       "    <tr>\n",
       "      <th>2</th>\n",
       "      <td>Random Forest</td>\n",
       "      <td>70.505</td>\n",
       "      <td>0.639</td>\n",
       "      <td>0.760</td>\n",
       "    </tr>\n",
       "    <tr>\n",
       "      <th>3</th>\n",
       "      <td>Gradient Boosting</td>\n",
       "      <td>288.982</td>\n",
       "      <td>0.630</td>\n",
       "      <td>0.747</td>\n",
       "    </tr>\n",
       "    <tr>\n",
       "      <th>5</th>\n",
       "      <td>SGD Classifier</td>\n",
       "      <td>1.515</td>\n",
       "      <td>0.571</td>\n",
       "      <td>0.701</td>\n",
       "    </tr>\n",
       "    <tr>\n",
       "      <th>0</th>\n",
       "      <td>Logistic Regression</td>\n",
       "      <td>6.405</td>\n",
       "      <td>0.493</td>\n",
       "      <td>0.697</td>\n",
       "    </tr>\n",
       "  </tbody>\n",
       "</table>\n",
       "</div>"
      ],
      "text/plain": [
       "                 model  training_time  fbeta  accuracy\n",
       "4        MLPClassifier        266.727  0.669     0.760\n",
       "1         SGD + Kernel          5.663  0.666     0.741\n",
       "2        Random Forest         70.505  0.639     0.760\n",
       "3    Gradient Boosting        288.982  0.630     0.747\n",
       "5       SGD Classifier          1.515  0.571     0.701\n",
       "0  Logistic Regression          6.405  0.493     0.697"
      ]
     },
     "execution_count": 33,
     "metadata": {},
     "output_type": "execute_result"
    }
   ],
   "source": [
    "model_df = pd.DataFrame(model_results)\n",
    "model_df = model_df[['model', 'training_time', 'fbeta', 'accuracy']]\n",
    "model_df = model_df.round(3)\n",
    "model_df.sort_values(['fbeta'], ascending=False)"
   ]
  },
  {
   "cell_type": "code",
   "execution_count": 34,
   "metadata": {},
   "outputs": [
    {
     "data": {
      "image/png": "[encoded data removed]",
      "text/plain": [
       "<Figure size 1008x576 with 1 Axes>"
      ]
     },
     "metadata": {},
     "output_type": "display_data"
    }
   ],
   "source": [
    "from sklearn.metrics import roc_curve\n",
    "\n",
    "plt.figure(num=None, figsize=(14, 8))\n",
    "\n",
    "fpr, tpr, thresholds = roc_curve(y_test,sgd_clf.decision_function(new_X_test),pos_label=1)\n",
    "plt.plot(fpr, tpr, linewidth=2, color='b', label='SGD Classifier')\n",
    "\n",
    "fpr, tpr, thresholds = roc_curve(y_test,lreg_clf.decision_function(new_X_test),pos_label=1)\n",
    "plt.plot(fpr, tpr, linewidth=2, color='r', label='Logistic Regression')\n",
    "\n",
    "fpr, tpr, thresholds = roc_curve(y_test,krn_clf.decision_function(rbf_sampler.transform(new_X_test)),pos_label=1)\n",
    "plt.plot(fpr, tpr, linewidth=2, color='g', label='SGD + Kernel ap.')\n",
    "\n",
    "fpr, tpr, thresholds = roc_curve(y_test,rf_clf.predict_proba(new_X_test)[:,1],pos_label=1)\n",
    "plt.plot(fpr, tpr, linewidth=2, color='c', label='Random Forest')\n",
    "\n",
    "fpr, tpr, thresholds = roc_curve(y_test,grad_clf.predict_proba(new_X_test)[:,1],pos_label=1)\n",
    "plt.plot(fpr, tpr, linewidth=2, color='m', label='Gradient Boosting')\n",
    "\n",
    "fpr, tpr, thresholds = roc_curve(y_test,mlp_clf.predict_proba(new_X_test)[:,1],pos_label=1)\n",
    "plt.plot(fpr, tpr, linewidth=2, color='k', label='MLP Classifier')\n",
    "\n",
    "plt.legend()\n",
    "plt.xlabel('False Positive Ratio')\n",
    "plt.ylabel('True Positive Ratio')\n",
    "plt.title(\"ROC Curves\")\n",
    "plt.show()\n"
   ]
  },
  {
   "cell_type": "markdown",
   "metadata": {},
   "source": [
    "##### Conclusão: \n",
    "\n",
    "1. Considerações:\n",
    "    1. O conjunto de dados é grande, ou seja, o risco de overfitting é maior\n",
    "    2. Métodos com muita variância tendem mais ao overfitting\n",
    "    3. Estratégia: usar o gridSearchCV para fazer o Tunning do SGD + Kernel. O melhor modelo, MLPCLassifier, apresentou um tempo de treino muito alto, o que inviabiliza o trabalho."
   ]
  },
  {
   "cell_type": "markdown",
   "metadata": {},
   "source": [
    "##  Tunning"
   ]
  },
  {
   "cell_type": "code",
   "execution_count": 36,
   "metadata": {
    "scrolled": true
   },
   "outputs": [
    {
     "name": "stdout",
     "output_type": "stream",
     "text": [
      "Fitting 5 folds for each of 432 candidates, totalling 2160 fits\n"
     ]
    },
    {
     "name": "stderr",
     "output_type": "stream",
     "text": [
      "[Parallel(n_jobs=2)]: Using backend LokyBackend with 2 concurrent workers.\n",
      "[Parallel(n_jobs=2)]: Done  28 tasks      | elapsed:  6.1min\n",
      "[Parallel(n_jobs=2)]: Done 124 tasks      | elapsed: 18.7min\n",
      "[Parallel(n_jobs=2)]: Done 284 tasks      | elapsed: 35.3min\n",
      "[Parallel(n_jobs=2)]: Done 508 tasks      | elapsed: 65.4min\n",
      "[Parallel(n_jobs=2)]: Done 796 tasks      | elapsed: 106.0min\n",
      "[Parallel(n_jobs=2)]: Done 1148 tasks      | elapsed: 154.5min\n",
      "[Parallel(n_jobs=2)]: Done 1564 tasks      | elapsed: 208.5min\n",
      "[Parallel(n_jobs=2)]: Done 2044 tasks      | elapsed: 292.0min\n",
      "[Parallel(n_jobs=2)]: Done 2160 out of 2160 | elapsed: 427.3min finished\n"
     ]
    },
    {
     "name": "stdout",
     "output_type": "stream",
     "text": [
      "best score: 0.7740466165493445\n",
      "best parameters: {'clf__alpha': 0.001, 'clf__class_weight': 'balanced', 'clf__loss': 'modified_huber', 'clf__penalty': 'none', 'clf__tol': 0.0001, 'rbf_sampler__gamma': 1, 'rbf_sampler__n_components': 150}\n"
     ]
    }
   ],
   "source": [
    "from sklearn.pipeline import Pipeline\n",
    "\n",
    "rbf_sampler = RBFSampler(random_state=42)\n",
    "clf = SGDClassifier(random_state=42)\n",
    "\n",
    "pipe = Pipeline([('rbf_sampler', rbf_sampler), ('clf', clf)])\n",
    "\n",
    "parameters = {'clf__loss':['log', 'modified_huber'], # os únicos que dão probabilidades,\n",
    "              'clf__penalty':['l1', 'l2', 'none', 'elasticnet'],\n",
    "              'clf__alpha':[1e-3, 1e-2, 1e-1],\n",
    "              'clf__class_weight':['balanced'],\n",
    "              'clf__tol':[1e-4, 1e-3, 1e-2],\n",
    "              \n",
    "              'rbf_sampler__gamma':[0.1, 1, 10],\n",
    "              'rbf_sampler__n_components':[100,150]\n",
    "             }\n",
    "\n",
    "strat_fold = StratifiedKFold(n_splits=5)\n",
    "ftwo_scorer = make_scorer(fbeta_score, beta=2)\n",
    "\n",
    "grid_search = GridSearchCV(pipe, parameters, scoring = ftwo_scorer,\n",
    "                           cv = strat_fold, verbose=3, n_jobs=2)\n",
    "grid_search.fit(new_X_train, y_train)\n",
    "\n",
    "print('best score:',grid_search.best_score_) \n",
    "print('best parameters:',grid_search.best_params_)"
   ]
  },
  {
   "cell_type": "code",
   "execution_count": 18,
   "metadata": {
    "scrolled": true
   },
   "outputs": [
    {
     "name": "stdout",
     "output_type": "stream",
     "text": [
      "Ajuste fino, fbeta score: 0.783\n"
     ]
    }
   ],
   "source": [
    "# Ajuste Fino\n",
    "from sklearn.model_selection import cross_val_score\n",
    "\n",
    "rbf_sampler = RBFSampler(random_state=42, n_components=150, gamma=3)\n",
    "clf = SGDClassifier(random_state=42, alpha=0.001, loss='modified_huber',\n",
    "                    penalty='none', class_weight='balanced', tol=1e-4,\n",
    "                   early_stopping=True)\n",
    "\n",
    "rbf_sampler.fit(new_X_train, y_train)\n",
    "clf.fit(rbf_sampler.transform(new_X_train), y_train)\n",
    "\n",
    "strat_fold = StratifiedKFold(n_splits=5)\n",
    "ftwo_scorer = make_scorer(fbeta_score, beta=2)\n",
    "\n",
    "score = cross_val_score(clf, rbf_sampler.transform(new_X_train), y_train,\n",
    "                cv=strat_fold, scoring=ftwo_scorer)\n",
    "\n",
    "print('Ajuste fino, fbeta score: {:.3f}'.format(score.mean()))"
   ]
  },
  {
   "cell_type": "markdown",
   "metadata": {},
   "source": [
    "### Avaliação e Validação do Modelo"
   ]
  },
  {
   "cell_type": "markdown",
   "metadata": {},
   "source": [
    "#### Encaixe do modelo final"
   ]
  },
  {
   "cell_type": "code",
   "execution_count": 72,
   "metadata": {},
   "outputs": [
    {
     "data": {
      "text/plain": [
       "SGDClassifier(alpha=0.001, average=False, class_weight='balanced',\n",
       "       early_stopping=False, epsilon=0.1, eta0=0.0, fit_intercept=True,\n",
       "       l1_ratio=0.15, learning_rate='optimal', loss='modified_huber',\n",
       "       max_iter=None, n_iter=None, n_iter_no_change=5, n_jobs=None,\n",
       "       penalty='none', power_t=0.5, random_state=42, shuffle=True,\n",
       "       tol=0.0001, validation_fraction=0.1, verbose=0, warm_start=False)"
      ]
     },
     "execution_count": 72,
     "metadata": {},
     "output_type": "execute_result"
    }
   ],
   "source": [
    "from sklearn.model_selection import cross_val_score\n",
    "\n",
    "rbf_sampler = RBFSampler(random_state=42, n_components=150, gamma=3)\n",
    "clf = SGDClassifier(random_state=42, alpha=0.001, loss='modified_huber',\n",
    "                    penalty='none', class_weight='balanced', tol=1e-4)\n",
    "\n",
    "rbf_sampler.fit(new_X_train, y_train)\n",
    "clf.fit(rbf_sampler.transform(new_X_train), y_train)"
   ]
  },
  {
   "cell_type": "code",
   "execution_count": 65,
   "metadata": {},
   "outputs": [],
   "source": [
    "# Reformulando treino e test\n",
    "X_train, X_test, y_train, y_test = train_test_split(X, y.ravel(), test_size=0.3, random_state=0)\n",
    "new_X_train = pca_final.transform(X_train)\n",
    "new_X_test = pca_final.transform(X_test)"
   ]
  },
  {
   "cell_type": "code",
   "execution_count": 66,
   "metadata": {},
   "outputs": [],
   "source": [
    "validations = []"
   ]
  },
  {
   "cell_type": "markdown",
   "metadata": {},
   "source": [
    "#### Estratégia 1: Cross Validation no conjunto de treino"
   ]
  },
  {
   "cell_type": "code",
   "execution_count": 67,
   "metadata": {},
   "outputs": [],
   "source": [
    "ftwo_scorer = make_scorer(fbeta_score, beta=2)\n",
    "strat_fold = StratifiedKFold(n_splits=3)\n",
    "\n",
    "fbeta = cross_val_score(clf, rbf_sampler.transform(new_X_train), y_train, cv=strat_fold, scoring=ftwo_scorer)\n",
    "acc = cross_val_score(clf, rbf_sampler.transform(new_X_train), y_train, cv=strat_fold, scoring='accuracy')\n",
    "\n",
    "r = {}\n",
    "r['Estratégia'] = 1\n",
    "r['Fbeta'] = fbeta.mean()\n",
    "r['Accuracy'] = acc.mean()\n",
    "\n",
    "validations.append(r)"
   ]
  },
  {
   "cell_type": "markdown",
   "metadata": {},
   "source": [
    "#### Estratégia 2: Teste e Treino"
   ]
  },
  {
   "cell_type": "code",
   "execution_count": 68,
   "metadata": {},
   "outputs": [],
   "source": [
    "y_pred = clf.predict(rbf_sampler.transform(new_X_test))\n",
    "\n",
    "acc = accuracy_score(y_test, y_pred)\n",
    "fbeta = fbeta_score(y_test, y_pred, 2)\n",
    "\n",
    "r = {}\n",
    "r['Estratégia'] = 2\n",
    "r['Fbeta'] = fbeta\n",
    "r['Accuracy'] = acc\n",
    "\n",
    "validations.append(r)"
   ]
  },
  {
   "cell_type": "markdown",
   "metadata": {},
   "source": [
    "#### Estratégia 3: Cross Validation"
   ]
  },
  {
   "cell_type": "code",
   "execution_count": 69,
   "metadata": {
    "scrolled": true
   },
   "outputs": [],
   "source": [
    "ftwo_scorer = make_scorer(fbeta_score, beta=2)\n",
    "strat_fold = StratifiedKFold(n_splits=3)\n",
    "\n",
    "fbeta = cross_val_score(clf, rbf_sampler.transform(new_X_test), y_test, cv=strat_fold, scoring=ftwo_scorer)\n",
    "acc = cross_val_score(clf, rbf_sampler.transform(new_X_test), y_test, cv=strat_fold, scoring='accuracy')\n",
    "\n",
    "r = {}\n",
    "r['Estratégia'] = 3\n",
    "r['Fbeta'] = fbeta.mean()\n",
    "r['Accuracy'] = acc.mean()\n",
    "\n",
    "validations.append(r)"
   ]
  },
  {
   "cell_type": "markdown",
   "metadata": {},
   "source": [
    "#### Analisando os resultados"
   ]
  },
  {
   "cell_type": "code",
   "execution_count": 70,
   "metadata": {
    "scrolled": true
   },
   "outputs": [
    {
     "data": {
      "text/html": [
       "<div>\n",
       "<style>\n",
       "    .dataframe thead tr:only-child th {\n",
       "        text-align: right;\n",
       "    }\n",
       "\n",
       "    .dataframe thead th {\n",
       "        text-align: left;\n",
       "    }\n",
       "\n",
       "    .dataframe tbody tr th {\n",
       "        vertical-align: top;\n",
       "    }\n",
       "</style>\n",
       "<table border=\"1\" class=\"dataframe\">\n",
       "  <thead>\n",
       "    <tr style=\"text-align: right;\">\n",
       "      <th></th>\n",
       "      <th>Estratégia</th>\n",
       "      <th>Fbeta</th>\n",
       "      <th>Accuracy</th>\n",
       "    </tr>\n",
       "  </thead>\n",
       "  <tbody>\n",
       "    <tr>\n",
       "      <th>0</th>\n",
       "      <td>1</td>\n",
       "      <td>0.784</td>\n",
       "      <td>0.736</td>\n",
       "    </tr>\n",
       "    <tr>\n",
       "      <th>1</th>\n",
       "      <td>2</td>\n",
       "      <td>0.783</td>\n",
       "      <td>0.736</td>\n",
       "    </tr>\n",
       "    <tr>\n",
       "      <th>2</th>\n",
       "      <td>3</td>\n",
       "      <td>0.784</td>\n",
       "      <td>0.735</td>\n",
       "    </tr>\n",
       "  </tbody>\n",
       "</table>\n",
       "</div>"
      ],
      "text/plain": [
       "   Estratégia  Fbeta  Accuracy\n",
       "0           1  0.784     0.736\n",
       "1           2  0.783     0.736\n",
       "2           3  0.784     0.735"
      ]
     },
     "execution_count": 70,
     "metadata": {},
     "output_type": "execute_result"
    }
   ],
   "source": [
    "validate_df = pd.DataFrame(validations)\n",
    "validate_df = validate_df[['Estratégia', 'Fbeta', 'Accuracy']]\n",
    "validate_df = validate_df.round(3)\n",
    "\n",
    "validate_df.sort_values(['Estratégia'])"
   ]
  },
  {
   "cell_type": "markdown",
   "metadata": {},
   "source": [
    "####  Analisando o modelo de benchmark"
   ]
  },
  {
   "cell_type": "code",
   "execution_count": 71,
   "metadata": {},
   "outputs": [
    {
     "data": {
      "text/html": [
       "<div>\n",
       "<style>\n",
       "    .dataframe thead tr:only-child th {\n",
       "        text-align: right;\n",
       "    }\n",
       "\n",
       "    .dataframe thead th {\n",
       "        text-align: left;\n",
       "    }\n",
       "\n",
       "    .dataframe tbody tr th {\n",
       "        vertical-align: top;\n",
       "    }\n",
       "</style>\n",
       "<table border=\"1\" class=\"dataframe\">\n",
       "  <thead>\n",
       "    <tr style=\"text-align: right;\">\n",
       "      <th></th>\n",
       "      <th>Estratégia</th>\n",
       "      <th>Fbeta</th>\n",
       "      <th>Accuracy</th>\n",
       "    </tr>\n",
       "  </thead>\n",
       "  <tbody>\n",
       "    <tr>\n",
       "      <th>0</th>\n",
       "      <td>1</td>\n",
       "      <td>0.767</td>\n",
       "      <td>0.521</td>\n",
       "    </tr>\n",
       "    <tr>\n",
       "      <th>1</th>\n",
       "      <td>2</td>\n",
       "      <td>0.767</td>\n",
       "      <td>0.520</td>\n",
       "    </tr>\n",
       "    <tr>\n",
       "      <th>2</th>\n",
       "      <td>3</td>\n",
       "      <td>0.767</td>\n",
       "      <td>0.520</td>\n",
       "    </tr>\n",
       "  </tbody>\n",
       "</table>\n",
       "</div>"
      ],
      "text/plain": [
       "   Estratégia  Fbeta  Accuracy\n",
       "0           1  0.767     0.521\n",
       "1           2  0.767     0.520\n",
       "2           3  0.767     0.520"
      ]
     },
     "execution_count": 71,
     "metadata": {},
     "output_type": "execute_result"
    }
   ],
   "source": [
    "bmk = GaussianNB()\n",
    "\n",
    "X_train, X_test, y_train, y_test = train_test_split(X, y.ravel(), test_size=0.2, random_state=42)\n",
    "bmk.fit(X_train, y_train)\n",
    "\n",
    "bmk_val = []\n",
    "X_train, X_test, y_train, y_test = train_test_split(X, y.ravel(), test_size=0.3, random_state=0)\n",
    "\n",
    "\n",
    "# Estratégia 1\n",
    "ftwo_scorer = make_scorer(fbeta_score, beta=2)\n",
    "strat_fold = StratifiedKFold(n_splits=3)\n",
    "fbeta = cross_val_score(bmk, X_train, y_train, cv=strat_fold, scoring=ftwo_scorer)\n",
    "acc = cross_val_score(bmk, X_train, y_train, cv=strat_fold, scoring='accuracy')\n",
    "r = {}\n",
    "r['Estratégia'] = 1\n",
    "r['Fbeta'] = fbeta.mean()\n",
    "r['Accuracy'] = acc.mean()\n",
    "bmk_val.append(r)\n",
    "\n",
    "# Estratégia 2\n",
    "y_pred = bmk.predict(X_test)\n",
    "acc = accuracy_score(y_test, y_pred)\n",
    "fbeta = fbeta_score(y_test, y_pred, 2)\n",
    "r = {}\n",
    "r['Estratégia'] = 2\n",
    "r['Fbeta'] = fbeta\n",
    "r['Accuracy'] = acc\n",
    "bmk_val.append(r)\n",
    "\n",
    "#Estratégia 3\n",
    "ftwo_scorer = make_scorer(fbeta_score, beta=2)\n",
    "strat_fold = StratifiedKFold(n_splits=3)\n",
    "fbeta = cross_val_score(bmk, X_test, y_test, cv=strat_fold, scoring=ftwo_scorer)\n",
    "acc = cross_val_score(bmk, X_test, y_test, cv=strat_fold, scoring='accuracy')\n",
    "r = {}\n",
    "r['Estratégia'] = 3\n",
    "r['Fbeta'] = fbeta.mean()\n",
    "r['Accuracy'] = acc.mean()\n",
    "bmk_val.append(r)\n",
    "\n",
    "\n",
    "bmk_df = pd.DataFrame(bmk_val)\n",
    "bmk_df = bmk_df[['Estratégia', 'Fbeta', 'Accuracy']]\n",
    "bmk_df = bmk_df.round(3)\n",
    "\n",
    "bmk_df.sort_values(['Estratégia'])"
   ]
  },
  {
   "cell_type": "code",
   "execution_count": 73,
   "metadata": {},
   "outputs": [],
   "source": [
    "with open('../input/pickles/clf.pkl', 'wb') as f:\n",
    "    pickle.dump(clf, f)\n",
    "    \n",
    "with open('../input/pickles/rbf_sampler.pkl', 'wb') as f:\n",
    "    pickle.dump(rbf_sampler, f)"
   ]
  },
  {
   "cell_type": "markdown",
   "metadata": {},
   "source": [
    "## Determinando as porcentagens dos débitos não pagos"
   ]
  },
  {
   "cell_type": "code",
   "execution_count": 10,
   "metadata": {},
   "outputs": [],
   "source": [
    "with open('../input/pickles/df_clean.pkl', 'rb') as f:\n",
    "    df_clean = pickle.load(f)\n",
    "\n",
    "with open('../input/pickles/scl_principal.pkl', 'rb') as f:\n",
    "    scl_principal = pickle.load(f)\n",
    "    \n",
    "with open('../input/pickles/scl_qtd_debitos.pkl', 'rb') as f:\n",
    "    scl_qtd_debitos = pickle.load(f)\n",
    "    \n",
    "with open('../input/pickles/clf.pkl', 'rb') as f:\n",
    "    clf = pickle.load(f)\n",
    "\n",
    "with open('../input/pickles/rbf_sampler.pkl', 'rb') as f:\n",
    "    rbf_sampler = pickle.load(f)\n",
    "    \n",
    "with open('../input/pickles/pca_final.pkl', 'rb') as f:\n",
    "    pca_final = pickle.load(f)"
   ]
  },
  {
   "cell_type": "code",
   "execution_count": 11,
   "metadata": {},
   "outputs": [],
   "source": [
    "df_final = df_clean.copy()\n",
    "\n",
    "df_final['log_principal'] = scl_principal.transform(df_final.log_principal.values.reshape(-1,1))\n",
    "df_final['log_debitos_contribuinte'] = scl_qtd_debitos.transform(df_final.log_debitos_contribuinte.values.reshape(-1,1))\n",
    "\n",
    "#i_cobraveis = [True if x == 'Não Cobrável' else False for x in df_final.target]\n",
    "target = df_final.target.values\n",
    "df_final.drop(['COD_TIP_ATLZ_DEB', 'PRINCIPAL', 'COD_DEB', 'dias_ate_pagar',\n",
    "               'debitos_contribuinte', 'target'], axis=1, inplace=True)\n",
    "\n",
    "# Dummies\n",
    "df_final = pd.get_dummies(df_final)\n",
    "#df_final = df_final[i_cobraveis]\n",
    "\n",
    "X_final = df_final.copy()\n",
    "\n",
    "X_final = pca_final.transform(X_final)"
   ]
  },
  {
   "cell_type": "code",
   "execution_count": 12,
   "metadata": {},
   "outputs": [],
   "source": [
    "proba = clf.predict_proba(rbf_sampler.transform(X_final))"
   ]
  },
  {
   "cell_type": "code",
   "execution_count": 8,
   "metadata": {},
   "outputs": [
    {
     "data": {
      "image/png": "[encoded data removed]",
      "text/plain": [
       "<Figure size 432x288 with 1 Axes>"
      ]
     },
     "metadata": {},
     "output_type": "display_data"
    }
   ],
   "source": [
    "#clf.classes_\n",
    "plt.hist(proba[:,1])\n",
    "plt.title('Distribuição de Probabilidades')\n",
    "plt.xlabel('Probabilities')\n",
    "plt.show()"
   ]
  },
  {
   "cell_type": "code",
   "execution_count": 20,
   "metadata": {},
   "outputs": [
    {
     "name": "stdout",
     "output_type": "stream",
     "text": [
      "<class 'pandas.core.frame.DataFrame'>\n",
      "Int64Index: 1900846 entries, 13 to 2739772\n",
      "Data columns (total 14 columns):\n",
      "COD_DEB                     category\n",
      "COD_SSIS_ORIG               category\n",
      "COD_TIP_ATLZ_DEB            category\n",
      "DESC_TIP_CTBU_ORIG          category\n",
      "DESC_TIP_DEB                category\n",
      "DESC_TIP_LANC               category\n",
      "MES                         category\n",
      "debitos_contribuinte        float64\n",
      "dias_ate_pagar              float64\n",
      "target                      category\n",
      "PRINCIPAL                   float64\n",
      "log_principal               float64\n",
      "log_debitos_contribuinte    float64\n",
      "Probabilidades              float64\n",
      "dtypes: category(8), float64(6)\n",
      "memory usage: 221.3 MB\n"
     ]
    }
   ],
   "source": [
    "df_cob = df_clean.copy()\n",
    "df_cob['Probabilidades'] = proba[:,1]\n",
    "df_cob.info()"
   ]
  },
  {
   "cell_type": "code",
   "execution_count": 21,
   "metadata": {},
   "outputs": [
    {
     "data": {
      "image/png": "[encoded data removed]",
      "text/plain": [
       "<Figure size 432x288 with 1 Axes>"
      ]
     },
     "metadata": {},
     "output_type": "display_data"
    }
   ],
   "source": [
    "perc_probs = df_cob[df_cob.COD_TIP_ATLZ_DEB.isin(['I', 'A'])].Probabilidades.values * 100\n",
    "plt.hist(perc_probs)\n",
    "plt.title('Distribuição das probabilidades de retorno')\n",
    "plt.xlabel('Probabilida %')\n",
    "plt.ylabel('Frequência')\n",
    "\n",
    "plt.show()"
   ]
  },
  {
   "cell_type": "code",
   "execution_count": 22,
   "metadata": {},
   "outputs": [
    {
     "data": {
      "text/plain": [
       "137352"
      ]
     },
     "execution_count": 22,
     "metadata": {},
     "output_type": "execute_result"
    }
   ],
   "source": [
    "sum(perc_probs > 60)"
   ]
  },
  {
   "cell_type": "code",
   "execution_count": 23,
   "metadata": {},
   "outputs": [
    {
     "data": {
      "text/plain": [
       "76678006.65003692"
      ]
     },
     "execution_count": 23,
     "metadata": {},
     "output_type": "execute_result"
    }
   ],
   "source": [
    "sum(df_cob[(df_cob.COD_TIP_ATLZ_DEB.isin(['I', 'A'])) & (df_cob.Probabilidades > 0.6)].PRINCIPAL.values)"
   ]
  },
  {
   "cell_type": "code",
   "execution_count": 24,
   "metadata": {},
   "outputs": [],
   "source": [
    "with open('../input/pickles/df_cob.pkl', 'wb') as f:\n",
    "    pickle.dump(df_cob, f)"
   ]
  }
 ],
 "metadata": {
  "kernelspec": {
   "display_name": "Python 3",
   "language": "python",
   "name": "python3"
  },
  "language_info": {
   "codemirror_mode": {
    "name": "ipython",
    "version": 3
   },
   "file_extension": ".py",
   "mimetype": "text/x-python",
   "name": "python",
   "nbconvert_exporter": "python",
   "pygments_lexer": "ipython3",
   "version": "3.6.7"
  }
 },
 "nbformat": 4,
 "nbformat_minor": 2
}
